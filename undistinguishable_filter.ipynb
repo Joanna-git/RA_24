{
 "cells": [
  {
   "cell_type": "code",
   "execution_count": 23,
   "metadata": {},
   "outputs": [],
   "source": [
    "import pandas as pd\n",
    "import re"
   ]
  },
  {
   "cell_type": "code",
   "execution_count": null,
   "metadata": {},
   "outputs": [],
   "source": [
    "# file path\n",
    "input_file_path = 'undistinguishable.csv'  \n",
    "output_file_path = 'processed_undistinguishable.csv'  "
   ]
  },
  {
   "cell_type": "code",
   "execution_count": null,
   "metadata": {},
   "outputs": [],
   "source": [
    "try:\n",
    "    data = pd.read_csv(input_file_path, encoding='utf-8')  \n",
    "except UnicodeDecodeError:\n",
    "    print(\"The file decoding failed. Please check the file's encoding format!\")\n",
    "    exit()\n"
   ]
  },
  {
   "cell_type": "code",
   "execution_count": null,
   "metadata": {},
   "outputs": [],
   "source": [
    "# Define a function to check for garbled content (targeting specific symbols).\n",
    "def check_unreadable(text):\n",
    "    unreadable_pattern = re.compile(r'[√Ø¬ø?Ω]')\n",
    "    return 'unreadable' if unreadable_pattern.search(text) else ''\n"
   ]
  },
  {
   "cell_type": "code",
   "execution_count": null,
   "metadata": {},
   "outputs": [],
   "source": [
    "# check column: cert_name\n",
    "if 'cert_name' in data.columns:\n",
    "    data['unreadable_flag'] = data['cert_name'].apply(lambda x: check_unreadable(str(x)))\n",
    "else:\n",
    "    print(\"The cert_name column was not found in the file. Please check the file format.\")\n",
    "    exit()"
   ]
  },
  {
   "cell_type": "code",
   "execution_count": null,
   "metadata": {},
   "outputs": [
    {
     "name": "stdout",
     "output_type": "stream",
     "text": [
      "Processed data saved to processed_undistinguishable.csv\n"
     ]
    }
   ],
   "source": [
    "# save processed file to csv format\n",
    "data.to_csv(output_file_path, index=False, encoding='utf-8')\n",
    "print(f'Processed data saved to {output_file_path}')"
   ]
  }
 ],
 "metadata": {
  "kernelspec": {
   "display_name": ".venv",
   "language": "python",
   "name": "python3"
  },
  "language_info": {
   "codemirror_mode": {
    "name": "ipython",
    "version": 3
   },
   "file_extension": ".py",
   "mimetype": "text/x-python",
   "name": "python",
   "nbconvert_exporter": "python",
   "pygments_lexer": "ipython3",
   "version": "3.12.6"
  }
 },
 "nbformat": 4,
 "nbformat_minor": 2
}
