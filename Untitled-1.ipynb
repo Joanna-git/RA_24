{
 "cells": [
  {
   "cell_type": "code",
   "execution_count": 66,
   "metadata": {},
   "outputs": [],
   "source": [
    "import pandas as pd\n",
    "\n",
    "# read user_data.xlsx\n",
    "file_path = \"C:/Users/joanna/Desktop/user_data.xlsx\" \n",
    "df = pd.read_excel(file_path)"
   ]
  },
  {
   "cell_type": "code",
   "execution_count": 67,
   "metadata": {},
   "outputs": [
    {
     "name": "stdout",
     "output_type": "stream",
     "text": [
      "Index(['user_id', 'role_k1500(user id corr)', 'role_k1500(onet title corr)',\n",
      "       'onet_code', 'onet_title'],\n",
      "      dtype='object')\n"
     ]
    }
   ],
   "source": [
    "print(df.columns)"
   ]
  },
  {
   "cell_type": "markdown",
   "metadata": {},
   "source": [
    "A: user_id(corresponding B) B: role_k1500(user id corr, this is original data) C: role_k1500(onet corr, this is literature data) D: onet_code(corresponding C) E: onet_title(corresponding C)"
   ]
  },
  {
   "cell_type": "markdown",
   "metadata": {},
   "source": []
  },
  {
   "cell_type": "code",
   "execution_count": 68,
   "metadata": {},
   "outputs": [],
   "source": [
    "# 第一步：找到B列中与C列相同的项，并提取对应的A和B列\n",
    "common_values = df[df['role_k1500(user id corr)'].isin(df['role_k1500(onet title corr)'])]\n",
    "new_df = common_values[['user_id', 'role_k1500(user id corr)']]\n",
    "\n",
    "# 第二步：将新表按照B列项字母顺序排序，A随B动\n",
    "sorted_new_df = new_df.sort_values(by='role_k1500(user id corr)', ascending=True).reset_index(drop=True)\n"
   ]
  },
  {
   "cell_type": "code",
   "execution_count": 69,
   "metadata": {},
   "outputs": [],
   "source": [
    "# 第三步：重命名列名\n",
    "sorted_new_df.columns = ['userid_sorted', 'role_k1500_sorted(user id corr)']"
   ]
  },
  {
   "cell_type": "code",
   "execution_count": 70,
   "metadata": {},
   "outputs": [],
   "source": [
    "# 第四步：从原表中找到匹配的C列值，并取出对应的D和E列值\n",
    "sorted_new_df['onet_code_sorted'] = ''\n",
    "sorted_new_df['onet_title_sorted'] = ''\n",
    "\n",
    "for index, row in sorted_new_df.iterrows():\n",
    "    b_value = row['role_k1500_sorted(user id corr)']\n",
    "    matched_row = df[df['role_k1500(onet title corr)'] == b_value]\n",
    "    \n",
    "    if not matched_row.empty:\n",
    "        # 取出匹配行的D和E列\n",
    "        sorted_new_df.at[index, 'onet_code_sorted'] = matched_row.iloc[0]['onet_code']\n",
    "        sorted_new_df.at[index, 'onet_title_sorted'] = matched_row.iloc[0]['onet_title']"
   ]
  },
  {
   "cell_type": "code",
   "execution_count": 71,
   "metadata": {},
   "outputs": [
    {
     "name": "stdout",
     "output_type": "stream",
     "text": [
      "   userid_sorted role_k1500_sorted(user id corr) onet_code_sorted  \\\n",
      "0       13662633                               a       11-3012.00   \n",
      "1      198456829                         account       11-2011.00   \n",
      "2       88915637                         account       11-2011.00   \n",
      "3      158982630                         account       11-2011.00   \n",
      "4      209169677                         account       11-2011.00   \n",
      "\n",
      "                     onet_title_sorted  \n",
      "0     Administrative Services Managers  \n",
      "1  Advertising and Promotions Managers  \n",
      "2  Advertising and Promotions Managers  \n",
      "3  Advertising and Promotions Managers  \n",
      "4  Advertising and Promotions Managers  \n",
      "处理完成，结果已保存到 'new_user_data.xlsx'\n"
     ]
    }
   ],
   "source": [
    "# 打印排序后的结果\n",
    "print(sorted_new_df.head())\n",
    "\n",
    "# 保存结果到 Excel 文件\n",
    "sorted_new_df.to_excel(\"C:/Users/joanna/Desktop/new_user_data.xlsx\", index=False)\n",
    "\n",
    "print(\"处理完成，结果已保存到 'new_user_data.xlsx'\")"
   ]
  },
  {
   "cell_type": "markdown",
   "metadata": {},
   "source": [
    "将job_affected_rating.xlsx的两列添加到new_user_data.xlsx,新文件命名为unsorted_score.score.xlsx,接下来要让affected_socre和onet_title_sorted（D列）匹配"
   ]
  },
  {
   "cell_type": "code",
   "execution_count": 72,
   "metadata": {},
   "outputs": [],
   "source": [
    "# 读取unsorted_score.xlsx数据\n",
    "file_path = \"C:/Users/joanna/Desktop/unsorted_score.xlsx\"  # 更新为unsorted_score.xlsx的路径\n",
    "df = pd.read_excel(file_path)\n",
    "\n",
    "# 初始化新表格的E列（命名为 affected_score_corr）\n",
    "df['affected_score_corr'] = 0.0  # 假设数值为浮点型"
   ]
  },
  {
   "cell_type": "code",
   "execution_count": 73,
   "metadata": {},
   "outputs": [],
   "source": [
    "# 遍历表格的D列，在E列中查找相应的字符串，并获取F列数值\n",
    "for index, row in df.iterrows():\n",
    "    d_value = row['onet_title_sorted']  # D列的项\n",
    "    \n",
    "    # 在E列（Job_title）中寻找匹配项\n",
    "    matched_row = df[df['Job_title'] == d_value]\n",
    "    \n",
    "    if not matched_row.empty:\n",
    "        # 获取F列（Affected_score）中的数值\n",
    "        df.at[index, 'affected_score_corr'] = matched_row.iloc[0]['Affected_score']"
   ]
  },
  {
   "cell_type": "code",
   "execution_count": 74,
   "metadata": {},
   "outputs": [
    {
     "name": "stdout",
     "output_type": "stream",
     "text": [
      "新表格已生成，结果保存在 'job_affected_sorted.xlsx'\n"
     ]
    }
   ],
   "source": [
    "# 保存结果到新的Excel文件\n",
    "df.to_excel(\"C:/Users/joanna/Desktop/job_affected_sorted.xlsx\", index=False)\n",
    "\n",
    "print(\"新表格已生成，结果保存在 'job_affected_sorted.xlsx'\")"
   ]
  },
  {
   "cell_type": "markdown",
   "metadata": {},
   "source": [
    "删除job_affected_sorted.xlsx的E&F列，将整张表以新的E列（原G列）降序排序。"
   ]
  }
 ],
 "metadata": {
  "kernelspec": {
   "display_name": "Python 3",
   "language": "python",
   "name": "python3"
  },
  "language_info": {
   "codemirror_mode": {
    "name": "ipython",
    "version": 3
   },
   "file_extension": ".py",
   "mimetype": "text/x-python",
   "name": "python",
   "nbconvert_exporter": "python",
   "pygments_lexer": "ipython3",
   "version": "3.12.6"
  }
 },
 "nbformat": 4,
 "nbformat_minor": 2
}
