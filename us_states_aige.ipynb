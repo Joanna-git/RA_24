{
 "cells": [
  {
   "cell_type": "code",
   "execution_count": 8,
   "metadata": {},
   "outputs": [],
   "source": [
    "import pandas as pd\n"
   ]
  },
  {
   "cell_type": "code",
   "execution_count": 9,
   "metadata": {},
   "outputs": [],
   "source": [
    "# Input and output file paths\n",
    "input_file = \"uscities_with_aige.csv\"  # Input CSV file\n",
    "output_file = \"us_states_aige.csv\"  # Output CSV file\n",
    "# Load the CSV file into a DataFrame\n",
    "df = pd.read_csv(input_file)\n",
    "\n",
    "# Ensure the required columns are present\n",
    "columns_to_focus = [\"state_id\", \"state_name\", \"population\", \"AIGE\"]\n",
    "for column in columns_to_focus:\n",
    "    if column not in df.columns:\n",
    "        raise ValueError(f\"Missing required column: {column}\")\n"
   ]
  },
  {
   "cell_type": "code",
   "execution_count": 10,
   "metadata": {},
   "outputs": [],
   "source": [
    "# Convert 'population' and 'AIGE' columns to numeric types for calculations\n",
    "df[\"population\"] = pd.to_numeric(df[\"population\"], errors=\"coerce\")\n",
    "df[\"AIGE\"] = pd.to_numeric(df[\"AIGE\"], errors=\"coerce\")"
   ]
  },
  {
   "cell_type": "code",
   "execution_count": 11,
   "metadata": {},
   "outputs": [
    {
     "name": "stderr",
     "output_type": "stream",
     "text": [
      "C:\\Users\\joanna\\AppData\\Local\\Temp\\ipykernel_6276\\2657614793.py:2: DeprecationWarning: DataFrameGroupBy.apply operated on the grouping columns. This behavior is deprecated, and in a future version of pandas the grouping columns will be excluded from the operation. Either pass `include_groups=False` to exclude the groupings or explicitly select the grouping columns after groupby to silence this warning.\n",
      "  state_summary = df.groupby([\"state_id\", \"state_name\"]).apply(\n"
     ]
    }
   ],
   "source": [
    "# Group by 'state_id' and 'state_name' to calculate the weighted average AIGE for each state\n",
    "state_summary = df.groupby([\"state_id\", \"state_name\"]).apply(\n",
    "    lambda group: pd.Series({\n",
    "        \"AIGE\": (group[\"AIGE\"] * group[\"population\"]).sum() / group[\"population\"].sum(),\n",
    "    })\n",
    ").reset_index()"
   ]
  },
  {
   "cell_type": "code",
   "execution_count": 12,
   "metadata": {},
   "outputs": [],
   "source": [
    "# Calculate the total weighted average AIGE for the entire country\n",
    "total_population = df[\"population\"].sum()  # Sum of the population across all cities\n",
    "total_aige = (df[\"AIGE\"] * df[\"population\"]).sum() / total_population  # Weighted average AIGE\n",
    "\n",
    "# Append the national average as the last row of the new DataFrame\n",
    "state_summary = pd.concat(\n",
    "    [state_summary, pd.DataFrame({\n",
    "        \"state_id\": [\"US\"],  # National identifier\n",
    "        \"state_name\": [\"United States\"],  # Name for the entire country\n",
    "        \"AIGE\": [total_aige],  # National weighted average AIGE\n",
    "    })],\n",
    "    ignore_index=True  # Reset the index for the new DataFrame\n",
    ")\n"
   ]
  },
  {
   "cell_type": "code",
   "execution_count": 13,
   "metadata": {},
   "outputs": [
    {
     "name": "stdout",
     "output_type": "stream",
     "text": [
      "Calculation completed. The new file has been saved as us_states_aige.csv\n"
     ]
    }
   ],
   "source": [
    "# Save the resulting DataFrame to a new CSV file\n",
    "state_summary.to_csv(output_file, index=False)\n",
    "\n",
    "print(f\"Calculation completed. The new file has been saved as {output_file}\")"
   ]
  }
 ],
 "metadata": {
  "kernelspec": {
   "display_name": ".venv",
   "language": "python",
   "name": "python3"
  },
  "language_info": {
   "codemirror_mode": {
    "name": "ipython",
    "version": 3
   },
   "file_extension": ".py",
   "mimetype": "text/x-python",
   "name": "python",
   "nbconvert_exporter": "python",
   "pygments_lexer": "ipython3",
   "version": "3.12.6"
  }
 },
 "nbformat": 4,
 "nbformat_minor": 2
}
