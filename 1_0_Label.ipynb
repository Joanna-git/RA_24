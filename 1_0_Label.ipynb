{
 "cells": [
  {
   "cell_type": "code",
   "execution_count": 34,
   "metadata": {},
   "outputs": [],
   "source": [
    "import pandas as pd\n",
    "from langdetect import detect, LangDetectException\n",
    "import chardet\n",
    "import re\n",
    "\n",
    "# Function to detect encoding of a file\n",
    "def detect_encoding(file_path):\n",
    "    with open(file_path, 'rb') as f:\n",
    "        result = chardet.detect(f.read())\n",
    "    return result['encoding'] if result['encoding'] else 'ISO-8859-1' \n",
    "\n",
    "# Function to clean text by removing whitespace, invisible characters, and treating dashes as empty\n",
    "def clean_text(text):\n",
    "    # 将输入转换为字符串\n",
    "    text = str(text)\n",
    "    # 如果 text 是 nan（pandas会返回nan表示null），返回空字符串,否则nan会被处理为string（non-empty）\n",
    "    if text.lower() == 'nan':\n",
    "        return ''\n",
    "    # Define empty cases\n",
    "    text = text.strip()  # Remove leading and trailing spaces\n",
    "    if text in ['--', '-', ' ', '...', 'N/A']:\n",
    "        return ''\n",
    "    return text  \n",
    "\n",
    "# Enhanced function to check if a field is non-empty after cleaning\n",
    "def is_non_empty(field):\n",
    "    cleaned_field = clean_text(field)\n",
    "    return 1 if cleaned_field != '' else 0  \n",
    "    \n"
   ]
  },
  {
   "cell_type": "code",
   "execution_count": 35,
   "metadata": {},
   "outputs": [],
   "source": [
    "# Detect encoding of each CSV file\n",
    "user_ids_lookup_encoding = detect_encoding('user_ids_lookup.csv')\n",
    "individual_user_encoding = detect_encoding('individual_user.csv')\n",
    "individual_user_raw_encoding = detect_encoding('individual_user_raw.csv')\n",
    "\n",
    "# Load CSV files with detected encodings and error handling\n",
    "user_ids_lookup = pd.read_csv('user_ids_lookup.csv', encoding=user_ids_lookup_encoding)\n",
    "individual_user = pd.read_csv('individual_user.csv', encoding=individual_user_encoding, encoding_errors='ignore')\n",
    "individual_user_raw = pd.read_csv('individual_user_raw.csv', encoding=individual_user_raw_encoding, encoding_errors='ignore')"
   ]
  },
  {
   "cell_type": "code",
   "execution_count": 36,
   "metadata": {},
   "outputs": [],
   "source": [
    "# Initialize new columns with default value 0\n",
    "user_ids_lookup['in_user'] = 0\n",
    "user_ids_lookup['in_user_raw'] = 0\n",
    "user_ids_lookup['location_is_US'] = 0\n",
    "user_ids_lookup['country_is_US'] = 0\n",
    "user_ids_lookup['raw_title_non_empty'] = 0\n",
    "user_ids_lookup['raw_summary_non_empty'] = 0\n",
    "user_ids_lookup['english_raw'] = 0"
   ]
  },
  {
   "cell_type": "code",
   "execution_count": 37,
   "metadata": {},
   "outputs": [],
   "source": [
    "# Set of User IDs in individual_user and individual_user_raw for fast lookup\n",
    "user_ids_in_user = set(individual_user['user_id'])\n",
    "user_ids_in_user_raw = set(individual_user_raw['user_id'])\n",
    "\n",
    "# Processing each user_id in user_ids_lookup\n",
    "for index, row in user_ids_lookup.iterrows():\n",
    "    user_id = row['user_id']\n",
    "    \n",
    "    # 1. Check if user_id is in individual_user.csv\n",
    "    user_ids_lookup.at[index, 'in_user'] = 1 if user_id in user_ids_in_user else 0\n",
    "    \n",
    "    # 2. Check if user_id is in individual_user_raw.csv\n",
    "    user_ids_lookup.at[index, 'in_user_raw'] = 1 if user_id in user_ids_in_user_raw else 0\n",
    "\n",
    "    # If the user is found in individual_user, extract location and country data\n",
    "    if user_id in user_ids_in_user:\n",
    "        user_data = individual_user[individual_user['user_id'] == user_id].iloc[0]\n",
    "\n",
    "        # 3. Check if `user_location` indicates US\n",
    "        location = str(user_data['user_location']).lower()\n",
    "        if any(keyword in location for keyword in ['united states', 'usa', 'u.s.', 'america']):\n",
    "            user_ids_lookup.at[index, 'location_is_US'] = 1\n",
    "\n",
    "        # 4. Check if `user_country` is \"United States\"\n",
    "        country = user_data['user_country']\n",
    "        user_ids_lookup.at[index, 'country_is_US'] = 1 if country == 'United States' else 0\n",
    "\n",
    "        # If the user is found in individual_user_raw, check profile title and summary\n",
    "    if user_id in user_ids_in_user_raw:\n",
    "        raw_data = individual_user_raw[individual_user_raw['user_id'] == user_id].iloc[0]\n",
    "        \n",
    "        # 5. Check if `profile_title` is non-empty after removing whitespace and invisible characters\n",
    "        profile_title = clean_text(str(raw_data['profile_title']))\n",
    "        user_ids_lookup.at[index, 'raw_title_non_empty'] = 1 if profile_title != '' else 0\n",
    "        \n",
    "        # 6. Debug and check if `profile_summary` is truly empty after cleaning\n",
    "        profile_summary= clean_text(str(raw_data['profile_summary']))\n",
    "        user_ids_lookup.at[index, 'raw_summary_non_empty'] = 1 if profile_summary != '' else 0\n",
    "        \n",
    "        # 7. Check if `profile_summary` is in English\n",
    "        try:\n",
    "            if profile_summary and detect(profile_summary) == 'en':\n",
    "                user_ids_lookup.at[index, 'english_raw'] = 1\n",
    "        except LangDetectException:\n",
    "            user_ids_lookup.at[index, 'english_raw'] = 0\n",
    "    \n"
   ]
  },
  {
   "cell_type": "code",
   "execution_count": 38,
   "metadata": {},
   "outputs": [
    {
     "name": "stdout",
     "output_type": "stream",
     "text": [
      "Processing complete. Results saved to 'processed_user_ids_lookup.csv'.\n"
     ]
    }
   ],
   "source": [
    "# Save the results to a new CSV\n",
    "user_ids_lookup.to_csv('processed_user_ids_lookup.csv', index=False)\n",
    "\n",
    "print(\"Processing complete. Results saved to 'processed_user_ids_lookup.csv'.\")"
   ]
  }
 ],
 "metadata": {
  "kernelspec": {
   "display_name": "Python 3",
   "language": "python",
   "name": "python3"
  },
  "language_info": {
   "codemirror_mode": {
    "name": "ipython",
    "version": 3
   },
   "file_extension": ".py",
   "mimetype": "text/x-python",
   "name": "python",
   "nbconvert_exporter": "python",
   "pygments_lexer": "ipython3",
   "version": "3.12.6"
  }
 },
 "nbformat": 4,
 "nbformat_minor": 2
}
