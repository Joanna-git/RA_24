{
 "cells": [
  {
   "cell_type": "code",
   "execution_count": 22,
   "metadata": {},
   "outputs": [],
   "source": [
    "import pandas as pd\n",
    "\n",
    "# 1. 读取user_data.xlsx的A、B列，创建新表格\n",
    "user_data_df = pd.read_excel('user_data.xlsx', usecols=['user_id', 'role_k1500'])\n",
    "\n",
    "# 创建新DataFrame，复制user_data的A、B列\n",
    "new_df = user_data_df.copy()"
   ]
  },
  {
   "cell_type": "code",
   "execution_count": 23,
   "metadata": {},
   "outputs": [],
   "source": [
    "# 2. 读取individual_role_lookup.csv的A、H、I列\n",
    "role_lookup_df = pd.read_csv('individual_role_lookup.csv', usecols=['role_k1500', 'onet_code', 'onet_title'])\n",
    "\n",
    "# 进行匹配，并将找到的H（onet_code）、I（onet_title）列数据填入新表格C、D列\n",
    "new_df['onet_code'] = new_df['role_k1500'].map(role_lookup_df.set_index('role_k1500')['onet_code'])\n",
    "new_df['onet_title'] = new_df['role_k1500'].map(role_lookup_df.set_index('role_k1500')['onet_title'])\n"
   ]
  },
  {
   "cell_type": "code",
   "execution_count": 24,
   "metadata": {},
   "outputs": [],
   "source": [
    "# 3. 读取job_affected_rating.xlsx的A、B列\n",
    "job_rating_df = pd.read_excel('job_affected_rating.xlsx', usecols=['Job_title', 'Affected_score'])\n",
    "\n",
    "# 将新表格D列和job_affected_rating的A列进行匹配，找到对应的affected_score填入E列\n",
    "new_df['affected_score'] = new_df['onet_title'].map(job_rating_df.set_index('Job_title')['Affected_score'])\n"
   ]
  },
  {
   "cell_type": "code",
   "execution_count": 25,
   "metadata": {},
   "outputs": [],
   "source": [
    "# 4. 对E列进行降序排序\n",
    "new_df = new_df.sort_values(by='affected_score', ascending=False)"
   ]
  },
  {
   "cell_type": "code",
   "execution_count": 26,
   "metadata": {},
   "outputs": [
    {
     "name": "stdout",
     "output_type": "stream",
     "text": [
      "任务完成，CSV文件已保存为 'job_affected_sorted(Oct1_updated).csv'\n"
     ]
    }
   ],
   "source": [
    "# 5. 输出CSV文件\n",
    "# 给列重命名\n",
    "new_df.columns = ['user_id', 'role_k1500', 'onet_code', 'onet_title', 'affected_score']\n",
    "\n",
    "# 保存为CSV文件\n",
    "new_df.to_csv('job_affected_sorted(Oct1_updated).csv', index=False)\n",
    "\n",
    "print(\"任务完成，CSV文件已保存为 'job_affected_sorted(Oct1_updated).csv'\")"
   ]
  }
 ],
 "metadata": {
  "kernelspec": {
   "display_name": "Python 3",
   "language": "python",
   "name": "python3"
  },
  "language_info": {
   "codemirror_mode": {
    "name": "ipython",
    "version": 3
   },
   "file_extension": ".py",
   "mimetype": "text/x-python",
   "name": "python",
   "nbconvert_exporter": "python",
   "pygments_lexer": "ipython3",
   "version": "3.12.6"
  }
 },
 "nbformat": 4,
 "nbformat_minor": 2
}
