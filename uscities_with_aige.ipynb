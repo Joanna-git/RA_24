{
 "cells": [
  {
   "cell_type": "code",
   "execution_count": 8,
   "metadata": {},
   "outputs": [],
   "source": [
    "import pandas as pd\n",
    "import openpyxl"
   ]
  },
  {
   "cell_type": "code",
   "execution_count": 9,
   "metadata": {},
   "outputs": [],
   "source": [
    "# Load the files into DataFrames\n",
    "uscities_path = 'uscities.csv'  # Replace with the actual file path\n",
    "county_mapping_path = 'County mapping.xlsx'  # Replace with the actual file path\n",
    "uscities_df = pd.read_csv(uscities_path)\n",
    "county_mapping_df = pd.read_excel(county_mapping_path, sheet_name='County code')\n"
   ]
  },
  {
   "cell_type": "code",
   "execution_count": 10,
   "metadata": {},
   "outputs": [],
   "source": [
    "# Ensure column names are consistent for comparison, convert data to strings.\n",
    "uscities_df['county_fips'] = uscities_df['county_fips'].astype(str)\n",
    "county_mapping_df['FIPS Code'] = county_mapping_df['FIPS Code'].astype(str)\n"
   ]
  },
  {
   "cell_type": "code",
   "execution_count": 11,
   "metadata": {},
   "outputs": [],
   "source": [
    "\n",
    "# Merge the DataFrames based on the FIPS Code (county_fips)\n",
    "merged_df = pd.merge(\n",
    "    uscities_df, \n",
    "    county_mapping_df[['FIPS Code', 'AIGE']], \n",
    "    left_on='county_fips', \n",
    "    right_on='FIPS Code', \n",
    "    how='left'\n",
    ")"
   ]
  },
  {
   "cell_type": "code",
   "execution_count": 12,
   "metadata": {},
   "outputs": [],
   "source": [
    "# Drop the extra FIPS Code column\n",
    "merged_df.drop(columns=['FIPS Code'], inplace=True)"
   ]
  },
  {
   "cell_type": "code",
   "execution_count": 13,
   "metadata": {},
   "outputs": [
    {
     "name": "stdout",
     "output_type": "stream",
     "text": [
      "Processed file saved to uscities_with_aige.csv\n"
     ]
    }
   ],
   "source": [
    "# Save the result to a new file\n",
    "output_path = 'uscities_with_aige.csv' \n",
    "merged_df.to_csv(output_path, index=False)\n",
    "\n",
    "print(f\"Processed file saved to {output_path}\")"
   ]
  }
 ],
 "metadata": {
  "kernelspec": {
   "display_name": ".venv",
   "language": "python",
   "name": "python3"
  },
  "language_info": {
   "codemirror_mode": {
    "name": "ipython",
    "version": 3
   },
   "file_extension": ".py",
   "mimetype": "text/x-python",
   "name": "python",
   "nbconvert_exporter": "python",
   "pygments_lexer": "ipython3",
   "version": "3.12.6"
  }
 },
 "nbformat": 4,
 "nbformat_minor": 2
}
